{
 "cells": [
  {
   "cell_type": "code",
   "execution_count": 15,
   "id": "d8b68fd1-4902-485a-8795-eb58453bc09c",
   "metadata": {},
   "outputs": [
    {
     "name": "stdin",
     "output_type": "stream",
     "text": [
      "Enter the number to find factorial for 8\n"
     ]
    },
    {
     "name": "stdout",
     "output_type": "stream",
     "text": [
      "The factorial of 8 is 40320\n"
     ]
    }
   ],
   "source": [
    "#11. Write a python program to find the factorial of a number.\n",
    "\n",
    "def fact(n):\n",
    "    if (n == 1):\n",
    "        return n\n",
    "    elif (n == 0):\n",
    "        return 1\n",
    "    else:\n",
    "       return n*fact(n-1)\n",
    "factnumber=int(input(\"Enter the number to find factorial for\"))\n",
    "if factnumber < 0:\n",
    "    print(\"Enter a positive number\")\n",
    "else:\n",
    "    result=fact(factnumber)\n",
    "    print(\"The factorial of\", factnumber, \"is\", result)"
   ]
  },
  {
   "cell_type": "code",
   "execution_count": 33,
   "id": "2943d0b5-1e88-4a62-a42b-fb110309374d",
   "metadata": {},
   "outputs": [
    {
     "name": "stdin",
     "output_type": "stream",
     "text": [
      "Enter the number 12\n"
     ]
    },
    {
     "name": "stdout",
     "output_type": "stream",
     "text": [
      "The given number 12 is composite\n"
     ]
    }
   ],
   "source": [
    "#12. Write a python program to find whether a number is prime or composite\n",
    "def isPrimeorNot(n):\n",
    "    inputno=n\n",
    "    for i in range(2,n):\n",
    "      if inputno%i == 0:\n",
    "          return 1\n",
    "          break\n",
    "      else:    \n",
    "          continue\n",
    "    return 0\n",
    "primnumber=int(input(\"Enter the number\"))\n",
    "if primnumber == 1 or  primnumber == 2:\n",
    "    print(\"The given number\", primnumber, \"is neither prime nor composite\")\n",
    "else:\n",
    "    isPrimeorNot=isPrimeorNot(primnumber)\n",
    "    if isPrimeorNot == 0:\n",
    "     print(\"The given number\", primnumber, \"is prime\")\n",
    "    else:\n",
    "     print(\"The given number\", primnumber, \"is composite\")"
   ]
  },
  {
   "cell_type": "code",
   "execution_count": 39,
   "id": "a0509835-1f6f-4156-b5d3-cbd4dd301fe2",
   "metadata": {},
   "outputs": [
    {
     "name": "stdin",
     "output_type": "stream",
     "text": [
      "Enter the string civic\n"
     ]
    },
    {
     "name": "stdout",
     "output_type": "stream",
     "text": [
      "The given string civic is a palindrome\n"
     ]
    }
   ],
   "source": [
    "#13.Write a python program to check whether a given string is palindrome or not.\n",
    "str=input(\"Enter the string\")\n",
    "if str == str[::-1]:\n",
    "    print(\"The given string\",str,\"is a palindrome\")\n",
    "else:\n",
    "    print(\"The given string\",str,\"is not a palindrome\") "
   ]
  },
  {
   "cell_type": "code",
   "execution_count": 46,
   "id": "ff311b9b-3e25-461a-8032-35d9d56061d5",
   "metadata": {},
   "outputs": [
    {
     "name": "stdin",
     "output_type": "stream",
     "text": [
      "Enter the first side of the right triangle 4\n",
      "Enter the second side of the right triangle 5\n"
     ]
    },
    {
     "name": "stdout",
     "output_type": "stream",
     "text": [
      "The third side of the right triangle is 6.4031242374328485\n"
     ]
    }
   ],
   "source": [
    "#14.Write a Python program to get the third side of right-angled triangle from two given sides. \n",
    "import math\n",
    "inputsides1=int(input(\"Enter the first side of the right triangle\"))\n",
    "inputsides2=int(input(\"Enter the second side of the right triangle\"))\n",
    "# Finding hypotenuse, otherwise need to use subtraction in the below line to find the third side\n",
    "thirdside=(inputsides1**2)+(inputsides2**2) \n",
    "thrdside=math.sqrt(thirdside)\n",
    "print(\"The third side of the right triangle is\",thrdside)"
   ]
  },
  {
   "cell_type": "code",
   "execution_count": 55,
   "id": "c822d0ed-0db7-4e8e-9bce-729771693298",
   "metadata": {},
   "outputs": [
    {
     "name": "stdin",
     "output_type": "stream",
     "text": [
      "Please enter the string malayalam\n"
     ]
    },
    {
     "name": "stdout",
     "output_type": "stream",
     "text": [
      "Counter({'a': 4, 'm': 2, 'l': 2, 'y': 1})\n",
      "'m': 2\n",
      "'a': 4\n",
      "'l': 2\n",
      "'y': 1\n"
     ]
    }
   ],
   "source": [
    "#15.Write a python program to print the frequency of each of the characters present in a given string\n",
    "from collections import Counter\n",
    "\n",
    "def findfreqcharacter(string):\n",
    "    charfrequency = Counter(string)\n",
    "    print(charfrequency)\n",
    "    #Print the frequency of each character\n",
    "    for char, count in charfrequency.items():\n",
    "      print(f\"'{char}': {count}\")\n",
    "\n",
    "inputstring = input(\"Please enter the string\")\n",
    "findfreqcharacter(inputstring)"
   ]
  },
  {
   "cell_type": "code",
   "execution_count": null,
   "id": "5bfc2367-3491-4621-8787-3267a309b3a7",
   "metadata": {},
   "outputs": [],
   "source": []
  }
 ],
 "metadata": {
  "kernelspec": {
   "display_name": "Python 3 (ipykernel)",
   "language": "python",
   "name": "python3"
  },
  "language_info": {
   "codemirror_mode": {
    "name": "ipython",
    "version": 3
   },
   "file_extension": ".py",
   "mimetype": "text/x-python",
   "name": "python",
   "nbconvert_exporter": "python",
   "pygments_lexer": "ipython3",
   "version": "3.11.7"
  }
 },
 "nbformat": 4,
 "nbformat_minor": 5
}

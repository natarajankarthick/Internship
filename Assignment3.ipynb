{
 "cells": [
  {
   "cell_type": "code",
   "execution_count": 1,
   "id": "6dd0b657-157d-46d4-b6c2-da75ec435fa2",
   "metadata": {},
   "outputs": [
    {
     "name": "stdout",
     "output_type": "stream",
     "text": [
      "Python:Exercises::PHP:exercises:\n"
     ]
    }
   ],
   "source": [
    "#Question 1- Write a Python program to replace all occurrences of a space, comma, or dot with a colon.\n",
    "text = 'Python Exercises, PHP exercises.'\n",
    "\n",
    "# Replace spaces, commas, and dots with colon\n",
    "result = text.replace(' ', ':').replace(',', ':').replace('.', ':')\n",
    "\n",
    "# Print the output\n",
    "print(result)\n"
   ]
  },
  {
   "cell_type": "code",
   "execution_count": 4,
   "id": "2b125100-93d3-4dd4-875e-1b866966a8f4",
   "metadata": {},
   "outputs": [
    {
     "name": "stdout",
     "output_type": "stream",
     "text": [
      "         SUMMARY\n",
      "0    hello world\n",
      "1     XXXXX test\n",
      "2  four five six\n"
     ]
    }
   ],
   "source": [
    "#Question 2-  Create a dataframe using the dictionary below and remove everything (commas (,), !, XXXX, ;, etc.) from the columns except words.\n",
    "\n",
    "import pandas as pd\n",
    "import re\n",
    "\n",
    "inputtext = {'SUMMARY': ['hello, world!', 'XXXXX test', '123four, five:; six...']}\n",
    "\n",
    "# DataFrame\n",
    "df = pd.DataFrame(inputtext)\n",
    "text = text.replace('XXXXX', '')\n",
    "# Clear/remove space/others\n",
    "def clear_remove(text):\n",
    "    clear_remove = re.sub(r'[^A-Za-z\\s]', '', text)\n",
    "    return clear_remove\n",
    "df['SUMMARY'] = df['SUMMARY'].apply(clear_remove)\n",
    "\n",
    "print(df)\n"
   ]
  },
  {
   "cell_type": "code",
   "execution_count": 10,
   "id": "b52e97d6-ed8c-4e7f-899a-55aa31fb1776",
   "metadata": {},
   "outputs": [
    {
     "name": "stdout",
     "output_type": "stream",
     "text": [
      "['India', 'twenty', 'twenty', 'world', '2024', 'beating', 'South', 'Africa']\n"
     ]
    }
   ],
   "source": [
    "#Question 3- Create a function in python to find all words that are at least 4 characters long in a string. The use of the re.compile() method is mandatory.\n",
    "\n",
    "import re\n",
    "\n",
    "def find_words(text):\n",
    "    # Match words with at least 4 characters\n",
    "    pattern = re.compile(r'\\b\\w{4,}\\b')\n",
    "    # Find all matches in the given text\n",
    "    find_words = pattern.findall(text)\n",
    "    return find_words\n",
    "\n",
    "text = 'India has won the twenty twenty world cup in 2024 by beating South Africa.'\n",
    "result = find_words(text)\n",
    "print(result)"
   ]
  },
  {
   "cell_type": "code",
   "execution_count": 13,
   "id": "46d29e69-57cc-4e72-84ae-a4901ce8952d",
   "metadata": {},
   "outputs": [
    {
     "name": "stdout",
     "output_type": "stream",
     "text": [
      "['India', 'has', 'won', 'the', 'world', 'cup', '2024', 'South']\n"
     ]
    }
   ],
   "source": [
    "#Question 4- Create a function in python to find all three, four, and five character words in a string. The use of the re.compile() method is mandatory.\n",
    "import re\n",
    "def find_words(text):\n",
    "    #  pattern to match words with 3, 4, or 5 characters\n",
    "    criteria = re.compile(r'\\b\\w{3,5}\\b')\n",
    "    find_words = criteria.findall(text)\n",
    "    return find_words\n",
    "\n",
    "# Example usage\n",
    "text = 'India has won the twenty twenty world cup in 2024 by beating South Africa.'\n",
    "result = find_words(text)\n",
    "print(result)\n"
   ]
  },
  {
   "cell_type": "code",
   "execution_count": 2,
   "id": "5847b6d4-a8dc-4f80-9941-2d34f9dcb637",
   "metadata": {},
   "outputs": [
    {
     "name": "stdout",
     "output_type": "stream",
     "text": [
      "example\n",
      "hr@fliprobo\n",
      "github\n",
      "Hello\n",
      "Data\n"
     ]
    }
   ],
   "source": [
    "#Question 5- Create a function in Python to remove the parenthesis in a list of strings. The use of the re.compile() method is mandatory.\n",
    "import re\n",
    "\n",
    "def remove_parentheses(text_list):\n",
    "\n",
    "    pattern = re.compile(r'\\s*\\(.*?\\)\\s*')\n",
    "    \n",
    "    # Initialize an empty list\n",
    "    modified_list = []\n",
    "    \n",
    "    # Iterate over each string in the list\n",
    "    for text in text_list:\n",
    "        \n",
    "        modified_text = pattern.sub('', text).strip()\n",
    "       \n",
    "        modified_list.append(modified_text)\n",
    "    \n",
    "    return modified_list\n",
    "\n",
    "# Sample\n",
    "input_text = [\"example (.com)\", \"hr@fliprobo (.com)\", \"github (.com)\", \"Hello (Data Science World)\", \"Data (Scientist)\"]\n",
    "\n",
    "# Get the modified output\n",
    "output = remove_parentheses(input_text)\n",
    "\n",
    "# Print the output\n",
    "for line in output:\n",
    "    print(line)\n"
   ]
  },
  {
   "cell_type": "code",
   "execution_count": 3,
   "id": "86f184a8-1b06-40be-baa1-b4d9943a8041",
   "metadata": {},
   "outputs": [
    {
     "name": "stdout",
     "output_type": "stream",
     "text": [
      "['Importance', 'Of', 'Regular', 'Expressions', 'In', 'Python']\n"
     ]
    }
   ],
   "source": [
    "#\n",
    "#Question 7- Write a regular expression in Python to split a string into uppercase letters\n",
    "import re\n",
    "\n",
    "def split_uppercase(text):\n",
    "    pattern = re.compile(r'(?<!^)(?=[A-Z])')\n",
    "    \n",
    "    # Use the pattern to split the string\n",
    "    result = pattern.split(text)\n",
    "    \n",
    "    return result\n",
    "\n",
    "input_text = \"ImportanceOfRegularExpressionsInPython\"\n",
    "\n",
    "# Get the split result\n",
    "output = split_uppercase(input_text)\n",
    "\n",
    "# Print the output\n",
    "print(output)\n"
   ]
  },
  {
   "cell_type": "code",
   "execution_count": 4,
   "id": "882da674-97a2-4d24-8712-e3a66c4d7539",
   "metadata": {},
   "outputs": [
    {
     "name": "stdout",
     "output_type": "stream",
     "text": [
      "RegularExpression 1IsAn 2ImportantTopic 3InPython\n"
     ]
    }
   ],
   "source": [
    "#Question 8- Create a function in python to insert spaces between words starting with numbers.\n",
    "import re\n",
    "\n",
    "def insert_space(text):\n",
    "    # Compile the regular expression pattern\n",
    "    pattern = re.compile(r'(\\d)')\n",
    "    # Use the pattern \n",
    "    result = pattern.sub(r' \\1', text)\n",
    "    return result\n",
    "\n",
    "text = \"RegularExpression1IsAn2ImportantTopic3InPython\"\n",
    "\n",
    "# Get the modified output\n",
    "output = insert_space(text)\n",
    "\n",
    "\n",
    "print(output)\n"
   ]
  },
  {
   "cell_type": "code",
   "execution_count": 6,
   "id": "2967462b-5e0b-48b3-8344-6e3cf05d5120",
   "metadata": {},
   "outputs": [
    {
     "name": "stdout",
     "output_type": "stream",
     "text": [
      "Regular Expression 1 Is An 2 Important Topic 3 In Python\n"
     ]
    }
   ],
   "source": [
    "#Question 9- Create a function in python to insert spaces between words starting with capital letters or with numbers.\n",
    "import re\n",
    "\n",
    "def insert_space(text):\n",
    "    \n",
    "    pattern = re.compile(r'([A-Z\\d][a-z]*)')   \n",
    "    # Use the pattern to insert spaces before words starting with capital letters or digits\n",
    "    result = pattern.sub(r' \\1', text)\n",
    "    return result.strip() \n",
    "\n",
    "# Sample text\n",
    "text = \"RegularExpression1IsAn2ImportantTopic3InPython\"\n",
    "output = insert_space(text)\n",
    "print(output)\n"
   ]
  },
  {
   "cell_type": "code",
   "execution_count": 9,
   "id": "7264cfd8-2e84-4418-8355-6e5841cd47e2",
   "metadata": {},
   "outputs": [
    {
     "name": "stdout",
     "output_type": "stream",
     "text": [
      "India-world-won: Does not match\n",
      "Python_Code: Matches\n",
      "alpha_beta: Matches\n",
      "34232323: Matches\n",
      "india spaces: Does not match\n",
      "indiawin!!: Does not match\n",
      "canwe_win: Matches\n",
      "12_sd_WE: Matches\n"
     ]
    }
   ],
   "source": [
    "#Question 11- Write a Python program to match a string that contains only upper and lowercase letters, numbers, and underscores.\n",
    "import re\n",
    "\n",
    "def match_string(text):\n",
    "   \n",
    "    pattern = re.compile(r'^[a-zA-Z0-9_]+$')\n",
    "    \n",
    "    \n",
    "    if pattern.match(text):\n",
    "        return True\n",
    "    else:\n",
    "        return False\n",
    "\n",
    "# Test \n",
    "test_strings = [\n",
    "    \"India-world-won\",\n",
    "    \"Python_Code\",\n",
    "    \"alpha_beta\",\n",
    "    \"34232323\",\n",
    "    \"india spaces\",\n",
    "    \"indiawin!!\",\n",
    "    \"canwe_win\",\n",
    "    \"12_sd_WE\"\n",
    "]\n",
    "\n",
    "# Check each test case\n",
    "for test_str in test_strings:\n",
    "    if match_string(test_str):\n",
    "        print(f\"{test_str}: Matches\")\n",
    "    else:\n",
    "        print(f\"{test_str}: Does not match\")\n"
   ]
  },
  {
   "cell_type": "code",
   "execution_count": 13,
   "id": "65bc40c3-bf0a-4ced-bf25-1362f5d46635",
   "metadata": {},
   "outputs": [
    {
     "name": "stdout",
     "output_type": "stream",
     "text": [
      "999WIN starts with 999\n",
      "WIN999 does not start with 999\n"
     ]
    }
   ],
   "source": [
    "\n",
    "#Question 12- Write a Python program where a string will start with a specific number. \n",
    "import re\n",
    "\n",
    "def starts_number(text, number):\n",
    "    \n",
    "    pattern = re.compile(r'^' + re.escape(number) + r'.*') \n",
    "    if pattern.match(text):\n",
    "        return True\n",
    "    else:\n",
    "        return False\n",
    "\n",
    "# Example \n",
    "text1 = \"999WIN\"\n",
    "text2 = \"WIN999\"\n",
    "number_to_check = \"999\"\n",
    "\n",
    "if starts_number(text1, number_to_check):\n",
    "    print(f\"{text1} starts with {number_to_check}\")\n",
    "else:\n",
    "    print(f\"{text1} does not start with {number_to_check}\")\n",
    "\n",
    "if starts_number(text2, number_to_check):\n",
    "    print(f\"{text2} starts with {number_to_check}\")\n",
    "else:\n",
    "    print(f\"{text2} does not start with {number_to_check}\")\n"
   ]
  },
  {
   "cell_type": "code",
   "execution_count": 16,
   "id": "1cdb2e3a-1019-45c5-b8c3-9cbb7cda5f21",
   "metadata": {},
   "outputs": [
    {
     "name": "stdout",
     "output_type": "stream",
     "text": [
      "Original IP: 192.168.001.001\n",
      "Cleaned IP: 192.168.1.1\n"
     ]
    }
   ],
   "source": [
    "#Question 13- Write a Python program to remove leading zeros from an IP address\n",
    "def clearzeroes(ip_address):\n",
    "    # Split the IP address into its components\n",
    "    components = ip_address.split('.')\n",
    "    \n",
    "    # Clean each component by removing leading zeros\n",
    "    cleaned_components = [str(int(component)) for component in components]\n",
    "    \n",
    "    # Join the components back together with dots\n",
    "    updated_ip = '.'.join(cleaned_components)\n",
    "    \n",
    "    return updated_ip\n",
    "\n",
    "# Example usage\n",
    "ip_address = \"192.168.001.001\"\n",
    "cleaned_ip = clearzeroes(ip_address)\n",
    "print(f\"Original IP: {ip_address}\")\n",
    "print(f\"Cleaned IP: {cleaned_ip}\")\n",
    "\n"
   ]
  },
  {
   "cell_type": "code",
   "execution_count": 19,
   "id": "73904bdf-ad36-4db5-b2fd-11e5241dca3e",
   "metadata": {},
   "outputs": [
    {
     "name": "stdout",
     "output_type": "stream",
     "text": [
      "Extracted Date: August 15th 1947\n"
     ]
    }
   ],
   "source": [
    "#Question 14- Write a regular expression in python to match a date string in the form of Month name followed by day number and year stored in a text file.\n",
    "import re\n",
    "\n",
    "def extract__file(file_path):\n",
    "    with open(file_path, 'r') as file:\n",
    "        text = file.read()\n",
    "\n",
    "    \n",
    "    pattern = re.compile(r'\\b(?:January|February|March|April|May|June|July|August|September|October|November|December)\\s+\\d{1,2}(?:st|nd|rd|th)?\\s+\\d{4}\\b')\n",
    "\n",
    "    # Search for the pattern \n",
    "    match = re.search(pattern, text)\n",
    "\n",
    "    if match:\n",
    "        return match.group(0)\n",
    "    else:\n",
    "        return None\n",
    "\n",
    "# Example - uploaded in jupyter.\n",
    "file_path = 'Text_Assignment.txt' \n",
    "\n",
    "# Extract the date from the file\n",
    "date_string = extract__file(file_path)\n",
    "\n",
    "if date_string:\n",
    "    print(f\"Extracted Date: {date_string}\")\n",
    "else:\n",
    "    print(\"No date string found matching the specified format.\")\n"
   ]
  },
  {
   "cell_type": "code",
   "execution_count": 20,
   "id": "c6f43fb6-6273-47ee-b0b5-626fbcd74d88",
   "metadata": {},
   "outputs": [
    {
     "name": "stdout",
     "output_type": "stream",
     "text": [
      "Found literals: ['won', 'world', 'beating']\n"
     ]
    }
   ],
   "source": [
    "#Question 15- Write a Python program to search some literals strings in a string. \n",
    "def search_words(main_string, literals):\n",
    "    found = []\n",
    "    for literal in literals:\n",
    "        if literal in main_string:\n",
    "            found.append(literal)\n",
    "    return found\n",
    "\n",
    "# Example\n",
    "main_string = \"India won the world cup for the year 2024 by beating South Africa.\"\n",
    "word_to_search = [\"won\", \"Australia\", \"world\", \"beating\"]\n",
    "\n",
    "found_literals = search_words(main_string, word_to_search)\n",
    "\n",
    "if found_literals:\n",
    "    print(f\"Found literals: {found_literals}\")\n",
    "else:\n",
    "    print(\"No literals found.\")\n"
   ]
  },
  {
   "cell_type": "code",
   "execution_count": 21,
   "id": "8827f0c4-ee8f-4bae-82ed-fc7d888829b0",
   "metadata": {},
   "outputs": [
    {
     "name": "stdout",
     "output_type": "stream",
     "text": [
      "Found 'fox' at index: 16\n"
     ]
    }
   ],
   "source": [
    "#Question 16- Write a Python program to search a literals string in a string and also find the location within the original string where the pattern occurs\n",
    "def search_wordlocation(main_string, search_string):\n",
    "   \n",
    "    location = main_string.find(search_string)\n",
    "    if location != -1:\n",
    "        return location\n",
    "    else:\n",
    "        return None\n",
    "\n",
    "\n",
    "text = 'The quick brown fox jumps over the lazy dog.'\n",
    "search_word = 'fox'\n",
    "\n",
    "# Perform the search and find the location\n",
    "location = search_wordlocation(text, search_word)\n",
    "\n",
    "if location is not None:\n",
    "    print(f\"Found '{search_word}' at index: {location}\")\n",
    "else:\n",
    "    print(f\"'{search_word}' not found in the sample text.\")\n"
   ]
  },
  {
   "cell_type": "code",
   "execution_count": 22,
   "id": "b0a8ae75-5fb0-4e72-8f75-2cbeefe2291b",
   "metadata": {},
   "outputs": [
    {
     "name": "stdout",
     "output_type": "stream",
     "text": [
      "Occurrences of 'exercises':\n",
      "Found at index 7 to 16\n",
      "Found at index 22 to 31\n",
      "Found at index 36 to 45\n"
     ]
    }
   ],
   "source": [
    "#Question 17- Write a Python program to find the substrings within a string.\n",
    "import re\n",
    "\n",
    "def find_sub(main_string, pattern):\n",
    "    matches = re.finditer(pattern, main_string)\n",
    "    locations = []\n",
    "    for match in matches:\n",
    "        locations.append((match.start(), match.end()))\n",
    "    return locations\n",
    "\n",
    "\n",
    "text = 'Python exercises, PHP exercises, C# exercises'\n",
    "pattern = 'exercises'\n",
    "\n",
    "# Find all occurrences of the pattern within the sample text\n",
    "occurs = find_sub(text, pattern)\n",
    "\n",
    "if occurs:\n",
    "    print(f\"Occurrences of '{pattern}':\")\n",
    "    for start, end in occurs:\n",
    "        print(f\"Found at index {start} to {end}\")\n",
    "else:\n",
    "    print(f\"No occurrences of '{pattern}' found in the sample text.\")\n"
   ]
  },
  {
   "cell_type": "code",
   "execution_count": 23,
   "id": "ad734107-e49f-49e6-b4e2-e6310a40f0f0",
   "metadata": {},
   "outputs": [
    {
     "name": "stdout",
     "output_type": "stream",
     "text": [
      "Number of occurrences of 'exercises': 3\n",
      "Positions (start, end) of 'exercises':\n",
      "Starts at index 7 and ends at index 16\n",
      "Starts at index 22 and ends at index 31\n",
      "Starts at index 36 and ends at index 45\n"
     ]
    }
   ],
   "source": [
    "#Question 18- Write a Python program to find the occurrence and position of the substrings within a string.\n",
    "import re\n",
    "\n",
    "def find_occurrences_and_positions(main_string, substring):\n",
    "    occurs = []\n",
    "    pattern = re.compile(re.escape(substring)) \n",
    "    for match in re.finditer(pattern, main_string):\n",
    "        start = match.start()\n",
    "        end = match.end()\n",
    "        occurs.append((start, end))\n",
    "    return occurs, len(occurs)\n",
    "\n",
    "\n",
    "text = 'Python exercises, PHP exercises, C# exercises'\n",
    "substring = 'exercises'\n",
    "\n",
    "# Find occurrences and positions of the substring\n",
    "positions, count = find_occurrences_and_positions(text, substring)\n",
    "\n",
    "if count > 0:\n",
    "    print(f\"Number of occurrences of '{substring}': {count}\")\n",
    "    print(f\"Positions (start, end) of '{substring}':\")\n",
    "    for pos in positions:\n",
    "        print(f\"Starts at index {pos[0]} and ends at index {pos[1]}\")\n",
    "else:\n",
    "    print(f\"No occurrences of '{substring}' found in the sample text.\")\n"
   ]
  },
  {
   "cell_type": "code",
   "execution_count": 25,
   "id": "044f8b02-3db8-4928-b593-47426f55fdb0",
   "metadata": {},
   "outputs": [
    {
     "name": "stdout",
     "output_type": "stream",
     "text": [
      "Original date (yyyy-mm-dd): 2025-11-11\n",
      "Converted date (dd-mm-yyyy): 11-11-2025\n"
     ]
    }
   ],
   "source": [
    "#Question 19- Write a Python program to convert a date of yyyy-mm-dd format to dd-mm-yyyy format.\n",
    "def convert_date_format(date):\n",
    "    # Split the date by '-'\n",
    "    parts = date.split('-')\n",
    "    dd_mm_yyyy_format = f\"{parts[2]}-{parts[1]}-{parts[0]}\"\n",
    "    return dd_mm_yyyy_format\n",
    "\n",
    "date_yyyy_mm_dd = '2025-11-11'\n",
    "date_dd_mm_yyyy = convert_date_format(date_yyyy_mm_dd)\n",
    "print(f\"Original date (yyyy-mm-dd): {date_yyyy_mm_dd}\")\n",
    "print(f\"Converted date (dd-mm-yyyy): {date_dd_mm_yyyy}\")\n"
   ]
  },
  {
   "cell_type": "code",
   "execution_count": 26,
   "id": "a998d808-0124-479b-9060-e74157646214",
   "metadata": {},
   "outputs": [
    {
     "name": "stdout",
     "output_type": "stream",
     "text": [
      "Decimal numbers with precision of 1 or 2 found:\n",
      "['01.42', '145.8', '13.01', '0.25']\n"
     ]
    }
   ],
   "source": [
    "#Question 20- Create a function in python to find all decimal numbers with a precision of 1 or 2 in a string. The use of the re.compile() method is mandatory.\n",
    "import re\n",
    "def find_decim(sample_text):\n",
    "    pattern = re.compile(r'\\b\\d+\\.\\d{1,2}\\b')\n",
    "    match = re.findall(pattern, sample_text)\n",
    "    return match\n",
    "\n",
    "text = \"01.42 2.123 2.7511 145.8 13.01 27.235 0.25\"\n",
    "decimal_numbers = find_decim(text)\n",
    "print(\"Decimal numbers with precision of 1 or 2 found:\")\n",
    "print(decimal_numbers)\n"
   ]
  },
  {
   "cell_type": "code",
   "execution_count": 27,
   "id": "d596f579-2b36-4f7b-8db6-6bc5d413c379",
   "metadata": {},
   "outputs": [
    {
     "name": "stdout",
     "output_type": "stream",
     "text": [
      "Numbers and their positions:\n",
      "Number '343' found at index 3\n",
      "Number '36343' found at index 8\n",
      "Number '3' found at index 17\n",
      "Number '2121' found at index 19\n",
      "Number '23' found at index 27\n"
     ]
    }
   ],
   "source": [
    "#Question 21- Write a Python program to separate and print the numbers and their position of a given string.\n",
    "import re\n",
    "\n",
    "def find_numbers_positions(input_string):\n",
    "    pattern = re.compile(r'\\d+')\n",
    "    match = [(match.group(), match.start()) for match in re.finditer(pattern, input_string)]\n",
    "    \n",
    "    return match\n",
    "\n",
    "# Example usage\n",
    "input_string = \"dfd343df36343dfdq3q2121dfdf23\"\n",
    "number_positions = find_numbers_positions(input_string)\n",
    "print(\"Numbers and their positions:\")\n",
    "for number, position in number_positions:\n",
    "    print(f\"Number '{number}' found at index {position}\")\n"
   ]
  },
  {
   "cell_type": "code",
   "execution_count": 28,
   "id": "15559b4c-f6e5-4c0f-9f03-9d8045ce7ba4",
   "metadata": {},
   "outputs": [
    {
     "name": "stdout",
     "output_type": "stream",
     "text": [
      "Maximum numeric value found: 950\n"
     ]
    }
   ],
   "source": [
    "#Question 22- Write a regular expression in python program to extract maximum/largest numeric value from a string.\n",
    "import re\n",
    "\n",
    "def extract_max_numeric_value(input_string):\n",
    "    pattern = re.compile(r'\\b\\d+\\b')\n",
    "    matches = [int(match.group()) for match in re.finditer(pattern, input_string)]\n",
    "    \n",
    "    if matches:\n",
    "        return max(matches)\n",
    "    else:\n",
    "        return None\n",
    "\n",
    "# Example usage\n",
    "text = 'The total scores are: 947, 896, 926, 524, 734, 950, 642'\n",
    "max_value = extract_max_numeric_value(text)\n",
    "\n",
    "if max_value is not None:\n",
    "    print(f\"Maximum numeric value found: {max_value}\")\n",
    "else:\n",
    "    print(\"No numeric values found in the text.\")\n"
   ]
  },
  {
   "cell_type": "code",
   "execution_count": 29,
   "id": "9ac11662-2738-4df8-bcd5-e15540f3b560",
   "metadata": {},
   "outputs": [
    {
     "name": "stdout",
     "output_type": "stream",
     "text": [
      "Formatted Output:\n",
      " India  Winthe  World  Cupin  South  Africathis  Yearbybeating  Southafrica\n"
     ]
    }
   ],
   "source": [
    "\n",
    "# Question 23- Create a function in python to insert spaces between words starting with capital letters.\n",
    "import re\n",
    "\n",
    "def insertspaces(input_string):\n",
    "    #insert space before capital letters\n",
    "    modified_string = re.sub(r'([a-z])([A-Z])', r'\\1 \\2', input_string)\n",
    "    \n",
    "    # Add space \n",
    "    modified_string = re.sub(r'(\\b)([A-Z])', r'\\1 \\2', modified_string)\n",
    "    \n",
    "    return modified_string\n",
    "\n",
    "\n",
    "text = \"IndiaWintheWorldCupinSouthAfricathisYearbybeatingSouthafrica\"\n",
    "formatted_text = insertspaces(text)\n",
    "print(\"Formatted Output:\")\n",
    "print(formatted_text)\n"
   ]
  },
  {
   "cell_type": "code",
   "execution_count": 30,
   "id": "cc6b6015-334d-4315-9af4-a95ce901a218",
   "metadata": {},
   "outputs": [
    {
     "name": "stdout",
     "output_type": "stream",
     "text": [
      "Sequences found:\n",
      "['India', 'South', 'Africa']\n"
     ]
    }
   ],
   "source": [
    "#Question 24- Python regex to find sequences of one upper case letter followed by lower case letters\n",
    "import re\n",
    "def find_string(input_string):\n",
    "    pattern = re.compile(r'[A-Z][a-z]+')\n",
    "    matches = re.findall(pattern, input_string)\n",
    "    return matches\n",
    "\n",
    "# Example usage\n",
    "text = \"India beat South Africa in world cup easily\"\n",
    "sequences = find_string(text)\n",
    "print(\"Sequences found:\")\n",
    "print(sequences)\n"
   ]
  },
  {
   "cell_type": "code",
   "execution_count": 31,
   "id": "e9199bbf-b661-4c31-948a-6584629248e3",
   "metadata": {},
   "outputs": [
    {
     "name": "stdout",
     "output_type": "stream",
     "text": [
      "Cleaned Output:\n",
      "Hello hello world\n"
     ]
    }
   ],
   "source": [
    "#Question 25- Write a Python program to remove continuous duplicate words from Sentence using Regular Expression.\n",
    "import re\n",
    "\n",
    "def remove_duplicates(sentence):\n",
    "\n",
    "    cleaned_sentence = re.sub(r'\\b(\\w+)\\s+\\1\\b', r'\\1', sentence)\n",
    "    \n",
    "    return cleaned_sentence.strip()  # Strip leading/trailing whitespace if any\n",
    "\n",
    "# Example usage\n",
    "text = \"Hello hello world world\"\n",
    "updated_text = remove_duplicates(text)\n",
    "print(\"Cleaned Output:\")\n",
    "print(updated_text)\n"
   ]
  },
  {
   "cell_type": "code",
   "execution_count": 33,
   "id": "8f15a75f-4f4a-4b6c-8897-fafb937b8ac3",
   "metadata": {},
   "outputs": [
    {
     "name": "stdout",
     "output_type": "stream",
     "text": [
      "String 'win123' ends with an alphanumeric character.\n",
      "String 'abc@123!' does not end with an alphanumeric character.\n",
      "String 'lose456' ends with an alphanumeric character.\n",
      "String 'hello world' ends with an alphanumeric character.\n"
     ]
    }
   ],
   "source": [
    "#Question 26-  Write a python program using RegEx to accept string ending with alphanumeric character.\n",
    "import re\n",
    "\n",
    "def search(input_string):\n",
    "    pattern = re.compile(r'^.*[a-zA-Z0-9]$')\n",
    "    return bool(re.match(pattern, input_string))\n",
    "\n",
    "\n",
    "test_strings = [\n",
    "    \"win123\",    # Ends with alphanumeric\n",
    "    \"abc@123!\",    # Does not end with alphanumeric\n",
    "    \"lose456\",     # Ends with alphanumeric\n",
    "    \"hello world\", # Does not end with alphanumeric\n",
    "]\n",
    "\n",
    "for string in test_strings:\n",
    "    if search(string):\n",
    "        print(f\"String '{string}' ends with an alphanumeric character.\")\n",
    "    else:\n",
    "        print(f\"String '{string}' does not end with an alphanumeric character.\")\n"
   ]
  },
  {
   "cell_type": "code",
   "execution_count": 34,
   "id": "61b0626e-c8e4-444b-8563-9030f3a7230a",
   "metadata": {},
   "outputs": [
    {
     "name": "stdout",
     "output_type": "stream",
     "text": [
      "Extracted Hashtags:\n",
      "['#Doltiwal', '#xyzabc', '#Demonetization']\n"
     ]
    }
   ],
   "source": [
    "#Question 27-Write a python program using RegEx to extract the hashtags.\n",
    "import re\n",
    "\n",
    "def extract_hashtags(input_text):\n",
    "    pattern = re.compile(r'#\\w+')\n",
    "    hashtags = re.findall(pattern, input_text)\n",
    "    return hashtags\n",
    "\n",
    "sample_text = \"\"\"RT @kapil_kausik: #Doltiwal I mean #xyzabc is \"hurt\" by #Demonetization as the same has rendered USELESS <ed><U+00A0><U+00BD><ed><U+00B1><U+0089> \"acquired funds\" No wo\"\"\"\n",
    "hashtags = extract_hashtags(sample_text)\n",
    "print(\"Extracted Hashtags:\")\n",
    "print(hashtags)"
   ]
  },
  {
   "cell_type": "code",
   "execution_count": 36,
   "id": "d1ed63c3-ee0f-4a9b-90a5-c62f558ddb2b",
   "metadata": {},
   "outputs": [
    {
     "name": "stdout",
     "output_type": "stream",
     "text": [
      "Cleaned Text:\n",
      "India Bharat on 28??<ed><ed>All is well in India but not all time only sometime\n"
     ]
    }
   ],
   "source": [
    "\n",
    "#Question 28- Write a python program using RegEx to remove <U+..> like symbols\n",
    "\n",
    "import re\n",
    "\n",
    "def remove(input_text):\n",
    "    pattern = re.compile(r'<U\\+[0-9A-Fa-f]{2,4}>')\n",
    "    cleaned_text = re.sub(pattern, '', input_text)\n",
    "    return cleaned_text\n",
    "\n",
    "# Example usage\n",
    "text = \"India Bharat on 28??<ed><U+00A0><U+00BD><ed><U+00B8><U+0082>All is well in India but not all time only sometime\"\n",
    "updated_text = remove(text)\n",
    "print(\"Cleaned Text:\")\n",
    "print(updated_text)\n"
   ]
  },
  {
   "cell_type": "code",
   "execution_count": 40,
   "id": "db191d82-8816-47ae-acd7-19bfc56a00ea",
   "metadata": {},
   "outputs": [
    {
     "name": "stdout",
     "output_type": "stream",
     "text": [
      "Extracted Dates:\n",
      "12-09-1992\n",
      "15-12-1999\n"
     ]
    }
   ],
   "source": [
    "\n",
    "#Question 29- Write a python program to extract dates from the text stored in the text file.\n",
    "\n",
    "    import re\n",
    "\n",
    "def getdates(file_path):\n",
    "    # Read the contents of the file\n",
    "    with open(file_path, 'r') as file:\n",
    "        text = file.read()\n",
    "    \n",
    "    pattern = re.compile(r'\\b\\d{2}-\\d{2}-\\d{4}\\b')\n",
    "    \n",
    "    # Find all matches in the text\n",
    "    dates = re.findall(pattern, text)\n",
    "    return dates\n",
    "file_path = 'Date_Assignment.txt'  \n",
    "dates_found = getdates(file_path)\n",
    "\n",
    "\n",
    "print(\"Extracted Dates:\")\n",
    "for date in dates_found:\n",
    "    print(date)\n"
   ]
  },
  {
   "cell_type": "code",
   "execution_count": 42,
   "id": "217ce9e9-4c5c-4152-938d-751366fe203e",
   "metadata": {},
   "outputs": [
    {
     "name": "stdout",
     "output_type": "stream",
     "text": [
      "Cleaned Text:\n",
      "following example creates ArrayList a capacity elements. 4 elements added ArrayList ArrayList trimmed accordingly.\n"
     ]
    }
   ],
   "source": [
    "#Question 30- Create a function in python to remove all words from a string of length between 2 and 4.\n",
    "import re\n",
    "\n",
    "def rem_words(text):\n",
    "    pattern = re.compile(r'\\b\\w{2,4}\\b')\n",
    "    mod_text = re.sub(pattern, '', text)\n",
    "    mod_text = re.sub(r'\\s+', ' ', mod_text)  # Remove extra spaces\n",
    "    return mod_text.strip()  \n",
    "\n",
    "# Example usage\n",
    "text = \"The following example creates an ArrayList with a capacity of 50 elements. 4 elements are then added to the ArrayList and the ArrayList is trimmed accordingly.\"\n",
    "mod_text = rem_words(text)\n",
    "print(\"Cleaned Text:\")\n",
    "print(mod_text)\n"
   ]
  },
  {
   "cell_type": "code",
   "execution_count": 1,
   "id": "604d0723-111d-4431-8da3-08256011127c",
   "metadata": {},
   "outputs": [
    {
     "name": "stdout",
     "output_type": "stream",
     "text": [
      "       Country          Region  Happiness Rank  Happiness Score  \\\n",
      "0  Switzerland  Western Europe               1            7.587   \n",
      "1      Iceland  Western Europe               2            7.561   \n",
      "2      Denmark  Western Europe               3            7.527   \n",
      "3       Norway  Western Europe               4            7.522   \n",
      "4       Canada   North America               5            7.427   \n",
      "\n",
      "   Standard Error  Economy (GDP per Capita)   Family  \\\n",
      "0         0.03411                   1.39651  1.34951   \n",
      "1         0.04884                   1.30232  1.40223   \n",
      "2         0.03328                   1.32548  1.36058   \n",
      "3         0.03880                   1.45900  1.33095   \n",
      "4         0.03553                   1.32629  1.32261   \n",
      "\n",
      "   Health (Life Expectancy)  Freedom  Trust (Government Corruption)  \\\n",
      "0                   0.94143  0.66557                        0.41978   \n",
      "1                   0.94784  0.62877                        0.14145   \n",
      "2                   0.87464  0.64938                        0.48357   \n",
      "3                   0.88521  0.66973                        0.36503   \n",
      "4                   0.90563  0.63297                        0.32957   \n",
      "\n",
      "   Generosity  Dystopia Residual first_five_letters  \n",
      "0     0.29678            2.51738             Switze  \n",
      "1     0.43630            2.70201             Icelan  \n",
      "2     0.34139            2.49204             Denmar  \n",
      "3     0.34699            2.46531             Norway  \n",
      "4     0.45811            2.45176             Canada  \n"
     ]
    }
   ],
   "source": [
    "#Question 10- Use the github link below to read the data and create a dataframe. After creating the dataframe extract the first 6 letters of each country and store in the dataframe under a new column called first_five_letters.\n",
    "import pandas as pd\n",
    "file = 'happiness_score_dataset.csv'\n",
    "df = pd.read_csv(file)\n",
    "df['first_five_letters'] = df['Country'].str[:6]\n",
    "print(df.head())"
   ]
  },
  {
   "cell_type": "code",
   "execution_count": 3,
   "id": "4e7be64a-dd21-454f-ae8b-df2426632dcd",
   "metadata": {},
   "outputs": [
    {
     "name": "stdout",
     "output_type": "stream",
     "text": [
      "['example', 'hr@fliprobo', 'github', 'Hello', 'Data']\n"
     ]
    }
   ],
   "source": [
    "#Question 6- Write a python program to remove the parenthesis area from the text stored in the text file using Regular Expression.import re\n",
    "\n",
    "stext = [\n",
    "    \"example (.com)\", \n",
    "    \"hr@fliprobo (.com)\", \n",
    "    \"github (.com)\", \n",
    "    \"Hello (Data Science World)\", \n",
    "    \"Data (Scientist)\"\n",
    "]\n",
    "\n",
    "\n",
    "with open(\"Qn6Assignment3.txt\", \"w\") as file:\n",
    "    for line in stext:\n",
    "        file.write(line + \"\\n\")\n",
    "\n",
    "# Function to remove parenthesis areas from the text\n",
    "def remove_parenthesis(text):\n",
    "    return re.sub(r\"\\s*\\([^)]*\\)\", \"\", text)\n",
    "\n",
    "\n",
    "with open(\"Qn6Assignment3.txt\", \"r\") as file:\n",
    "    lines = file.readlines()\n",
    "\n",
    "# Remove parenthesis \n",
    "cleaned_lines = [remove_parenthesis(line.strip()) for line in lines]\n",
    "\n",
    "# Write the cleaned lines to a new file \n",
    "with open(\"cleaned_text.txt\", \"w\") as file:\n",
    "    for line in cleaned_lines:\n",
    "        file.write(line + \"\\n\")\n",
    "\n",
    "# Print the output \n",
    "print(cleaned_lines)\n"
   ]
  },
  {
   "cell_type": "code",
   "execution_count": null,
   "id": "5f904eca-4817-4550-9f46-eeecd688af82",
   "metadata": {},
   "outputs": [],
   "source": []
  }
 ],
 "metadata": {
  "kernelspec": {
   "display_name": "Python 3 (ipykernel)",
   "language": "python",
   "name": "python3"
  },
  "language_info": {
   "codemirror_mode": {
    "name": "ipython",
    "version": 3
   },
   "file_extension": ".py",
   "mimetype": "text/x-python",
   "name": "python",
   "nbconvert_exporter": "python",
   "pygments_lexer": "ipython3",
   "version": "3.11.7"
  }
 },
 "nbformat": 4,
 "nbformat_minor": 5
}
